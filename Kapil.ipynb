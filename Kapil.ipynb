{
 "cells": [
  {
   "cell_type": "code",
   "execution_count": 71,
   "id": "e8724961",
   "metadata": {},
   "outputs": [],
   "source": [
    "import pandas as pd\n",
    "import numpy as np\n",
    "import matplotlib.pyplot as plt\n",
    "import seaborn as sns"
   ]
  },
  {
   "cell_type": "code",
   "execution_count": 72,
   "id": "568fb026",
   "metadata": {},
   "outputs": [
    {
     "data": {
      "text/html": [
       "<div>\n",
       "<style scoped>\n",
       "    .dataframe tbody tr th:only-of-type {\n",
       "        vertical-align: middle;\n",
       "    }\n",
       "\n",
       "    .dataframe tbody tr th {\n",
       "        vertical-align: top;\n",
       "    }\n",
       "\n",
       "    .dataframe thead th {\n",
       "        text-align: right;\n",
       "    }\n",
       "</style>\n",
       "<table border=\"1\" class=\"dataframe\">\n",
       "  <thead>\n",
       "    <tr style=\"text-align: right;\">\n",
       "      <th></th>\n",
       "      <th>application_key</th>\n",
       "      <th>mvar1</th>\n",
       "      <th>mvar2</th>\n",
       "      <th>mvar3</th>\n",
       "      <th>mvar4</th>\n",
       "      <th>mvar5</th>\n",
       "      <th>mvar6</th>\n",
       "      <th>mvar7</th>\n",
       "      <th>mvar8</th>\n",
       "      <th>mvar9</th>\n",
       "      <th>...</th>\n",
       "      <th>mvar43</th>\n",
       "      <th>mvar44</th>\n",
       "      <th>mvar45</th>\n",
       "      <th>mvar46</th>\n",
       "      <th>mvar47</th>\n",
       "      <th>mvar48</th>\n",
       "      <th>mvar49</th>\n",
       "      <th>mvar50</th>\n",
       "      <th>mvar51</th>\n",
       "      <th>default_ind</th>\n",
       "    </tr>\n",
       "  </thead>\n",
       "  <tbody>\n",
       "    <tr>\n",
       "      <th>0</th>\n",
       "      <td>230032</td>\n",
       "      <td>1696</td>\n",
       "      <td>1.6541</td>\n",
       "      <td>0.000</td>\n",
       "      <td>0.0</td>\n",
       "      <td>0.0</td>\n",
       "      <td>0</td>\n",
       "      <td>6015</td>\n",
       "      <td>322</td>\n",
       "      <td>40369</td>\n",
       "      <td>...</td>\n",
       "      <td>10</td>\n",
       "      <td>0.63899</td>\n",
       "      <td>na</td>\n",
       "      <td>0</td>\n",
       "      <td>C</td>\n",
       "      <td>10</td>\n",
       "      <td>770</td>\n",
       "      <td>4</td>\n",
       "      <td>3080</td>\n",
       "      <td>0</td>\n",
       "    </tr>\n",
       "    <tr>\n",
       "      <th>1</th>\n",
       "      <td>230033</td>\n",
       "      <td>1846</td>\n",
       "      <td>0.8095</td>\n",
       "      <td>0.000</td>\n",
       "      <td>0.0</td>\n",
       "      <td>0.0</td>\n",
       "      <td>102</td>\n",
       "      <td>7532</td>\n",
       "      <td>3171</td>\n",
       "      <td>18234</td>\n",
       "      <td>...</td>\n",
       "      <td>13</td>\n",
       "      <td>0.63836</td>\n",
       "      <td>na</td>\n",
       "      <td>na</td>\n",
       "      <td>L</td>\n",
       "      <td>732</td>\n",
       "      <td>437</td>\n",
       "      <td>5</td>\n",
       "      <td>2185</td>\n",
       "      <td>1</td>\n",
       "    </tr>\n",
       "    <tr>\n",
       "      <th>2</th>\n",
       "      <td>230034</td>\n",
       "      <td>1745</td>\n",
       "      <td>0.4001</td>\n",
       "      <td>0.000</td>\n",
       "      <td>0.0</td>\n",
       "      <td>0.0</td>\n",
       "      <td>missing</td>\n",
       "      <td>2536</td>\n",
       "      <td>missing</td>\n",
       "      <td>missing</td>\n",
       "      <td>...</td>\n",
       "      <td>1</td>\n",
       "      <td>1.00000</td>\n",
       "      <td>na</td>\n",
       "      <td>0</td>\n",
       "      <td>C</td>\n",
       "      <td>89</td>\n",
       "      <td>795</td>\n",
       "      <td>4</td>\n",
       "      <td>3180</td>\n",
       "      <td>1</td>\n",
       "    </tr>\n",
       "    <tr>\n",
       "      <th>3</th>\n",
       "      <td>230035</td>\n",
       "      <td>1739</td>\n",
       "      <td>0.2193</td>\n",
       "      <td>0.000</td>\n",
       "      <td>0.0</td>\n",
       "      <td>0.0</td>\n",
       "      <td>1982</td>\n",
       "      <td>26440</td>\n",
       "      <td>4955</td>\n",
       "      <td>20316</td>\n",
       "      <td>...</td>\n",
       "      <td>3</td>\n",
       "      <td>0.53241</td>\n",
       "      <td>0</td>\n",
       "      <td>0</td>\n",
       "      <td>L</td>\n",
       "      <td>3</td>\n",
       "      <td>755</td>\n",
       "      <td>4</td>\n",
       "      <td>3020</td>\n",
       "      <td>0</td>\n",
       "    </tr>\n",
       "    <tr>\n",
       "      <th>4</th>\n",
       "      <td>230036</td>\n",
       "      <td>1787</td>\n",
       "      <td>0.0118</td>\n",
       "      <td>0.225</td>\n",
       "      <td>0.0</td>\n",
       "      <td>0.0</td>\n",
       "      <td>5451</td>\n",
       "      <td>5494</td>\n",
       "      <td>5494</td>\n",
       "      <td>7987</td>\n",
       "      <td>...</td>\n",
       "      <td>1</td>\n",
       "      <td>0.92665</td>\n",
       "      <td>na</td>\n",
       "      <td>na</td>\n",
       "      <td>L</td>\n",
       "      <td>5</td>\n",
       "      <td>425</td>\n",
       "      <td>4</td>\n",
       "      <td>1700</td>\n",
       "      <td>0</td>\n",
       "    </tr>\n",
       "  </tbody>\n",
       "</table>\n",
       "<p>5 rows × 53 columns</p>\n",
       "</div>"
      ],
      "text/plain": [
       "   application_key mvar1   mvar2  mvar3  mvar4  mvar5    mvar6  mvar7  \\\n",
       "0           230032  1696  1.6541  0.000    0.0    0.0        0   6015   \n",
       "1           230033  1846  0.8095  0.000    0.0    0.0      102   7532   \n",
       "2           230034  1745  0.4001  0.000    0.0    0.0  missing   2536   \n",
       "3           230035  1739  0.2193  0.000    0.0    0.0     1982  26440   \n",
       "4           230036  1787  0.0118  0.225    0.0    0.0     5451   5494   \n",
       "\n",
       "     mvar8    mvar9  ... mvar43   mvar44 mvar45 mvar46  mvar47 mvar48 mvar49  \\\n",
       "0      322    40369  ...     10  0.63899     na      0       C     10    770   \n",
       "1     3171    18234  ...     13  0.63836     na     na       L    732    437   \n",
       "2  missing  missing  ...      1  1.00000     na      0       C     89    795   \n",
       "3     4955    20316  ...      3  0.53241      0      0       L      3    755   \n",
       "4     5494     7987  ...      1  0.92665     na     na       L      5    425   \n",
       "\n",
       "  mvar50 mvar51 default_ind  \n",
       "0      4   3080           0  \n",
       "1      5   2185           1  \n",
       "2      4   3180           1  \n",
       "3      4   3020           0  \n",
       "4      4   1700           0  \n",
       "\n",
       "[5 rows x 53 columns]"
      ]
     },
     "execution_count": 72,
     "metadata": {},
     "output_type": "execute_result"
    }
   ],
   "source": [
    "data = pd.read_csv('TrainingData.csv', low_memory=False)\n",
    "data.head()"
   ]
  },
  {
   "cell_type": "code",
   "execution_count": 73,
   "id": "1831c877",
   "metadata": {},
   "outputs": [],
   "source": [
    "data = data.replace(to_replace = 'na', value = np.nan, regex = False)\n",
    "data = data.replace(to_replace = 'missing', value = np.nan, regex = False)\n",
    "data = data.replace(to_replace = '#VALUE!', value = -1, regex = False)"
   ]
  },
  {
   "cell_type": "code",
   "execution_count": 74,
   "id": "e9456d30",
   "metadata": {},
   "outputs": [],
   "source": [
    "col = ['mvar1', 'mvar2', 'mvar3', 'mvar4', 'mvar5', 'mvar6',\n",
    "       'mvar7', 'mvar8', 'mvar9', 'mvar10', 'mvar11', 'mvar12', 'mvar13',\n",
    "       'mvar14', 'mvar15', 'mvar16', 'mvar17', 'mvar18', 'mvar19', 'mvar20',\n",
    "       'mvar21', 'mvar22', 'mvar23', 'mvar24', 'mvar25', 'mvar26', 'mvar27',\n",
    "       'mvar28', 'mvar29', 'mvar30', 'mvar31', 'mvar32', 'mvar33', 'mvar34',\n",
    "       'mvar35', 'mvar36', 'mvar37', 'mvar38', 'mvar39', 'mvar40', 'mvar41',\n",
    "       'mvar42', 'mvar43', 'mvar44', 'mvar45', 'mvar46', 'mvar48',\n",
    "       'mvar49', 'mvar50', 'mvar51']\n",
    "for i in col:\n",
    "    data[i] = data[i].astype('float64')"
   ]
  },
  {
   "cell_type": "code",
   "execution_count": 75,
   "id": "2b282555",
   "metadata": {},
   "outputs": [],
   "source": [
    "cat_cols = []\n",
    "for cols in data:\n",
    "    if cols == 'default_ind':\n",
    "        continue\n",
    "    num = data[cols].unique().size\n",
    "    if num <= 30:\n",
    "        cat_cols.append(cols)"
   ]
  },
  {
   "cell_type": "code",
   "execution_count": 76,
   "id": "28642bcc",
   "metadata": {},
   "outputs": [
    {
     "name": "stdout",
     "output_type": "stream",
     "text": [
      "['mvar16', 'mvar17', 'mvar18', 'mvar19', 'mvar20', 'mvar34', 'mvar35', 'mvar39', 'mvar45', 'mvar46', 'mvar47', 'mvar50']\n"
     ]
    }
   ],
   "source": [
    "print(cat_cols)"
   ]
  },
  {
   "cell_type": "code",
   "execution_count": 77,
   "id": "9fe03e27",
   "metadata": {},
   "outputs": [],
   "source": [
    "num_cols = [i for i in data.columns if i not in cat_cols and i != 'default_ind']"
   ]
  },
  {
   "cell_type": "code",
   "execution_count": 78,
   "id": "8d1d7e25",
   "metadata": {},
   "outputs": [
    {
     "name": "stdout",
     "output_type": "stream",
     "text": [
      "['application_key', 'mvar1', 'mvar2', 'mvar3', 'mvar4', 'mvar5', 'mvar6', 'mvar7', 'mvar8', 'mvar9', 'mvar10', 'mvar11', 'mvar12', 'mvar13', 'mvar14', 'mvar15', 'mvar21', 'mvar22', 'mvar23', 'mvar24', 'mvar25', 'mvar26', 'mvar27', 'mvar28', 'mvar29', 'mvar30', 'mvar31', 'mvar32', 'mvar33', 'mvar36', 'mvar37', 'mvar38', 'mvar40', 'mvar41', 'mvar42', 'mvar43', 'mvar44', 'mvar48', 'mvar49', 'mvar51']\n"
     ]
    }
   ],
   "source": [
    "print(num_cols)"
   ]
  },
  {
   "cell_type": "code",
   "execution_count": 79,
   "id": "6a718d13",
   "metadata": {},
   "outputs": [],
   "source": [
    "null_cols = []\n",
    "for cols in data:\n",
    "    if data[cols].isnull().sum()/83000 >= 0.3:\n",
    "        null_cols.append(cols)"
   ]
  },
  {
   "cell_type": "code",
   "execution_count": 80,
   "id": "dbf70a00",
   "metadata": {},
   "outputs": [
    {
     "name": "stdout",
     "output_type": "stream",
     "text": [
      "['mvar11', 'mvar15', 'mvar22', 'mvar23', 'mvar30', 'mvar31', 'mvar35', 'mvar40', 'mvar41', 'mvar45']\n"
     ]
    }
   ],
   "source": [
    "print(null_cols)"
   ]
  },
  {
   "cell_type": "code",
   "execution_count": 81,
   "id": "e231feb9",
   "metadata": {},
   "outputs": [
    {
     "name": "stdout",
     "output_type": "stream",
     "text": [
      "mvar1, mvar42:-0.7743396625511232\n",
      "mvar1, mvar50:0.7909177290395599\n",
      "mvar4, mvar46:0.8817110647852113\n",
      "mvar7, mvar10:0.892973116736524\n",
      "mvar9, mvar32:0.718002549421013\n",
      "mvar16, mvar17:0.9374173170216952\n",
      "mvar16, mvar18:0.928629316362157\n",
      "mvar17, mvar18:0.9897991981977573\n",
      "mvar19, mvar20:0.985329675603559\n",
      "mvar21, mvar22:0.7036380777721649\n",
      "mvar22, mvar23:0.8945648407025417\n",
      "mvar25, mvar26:0.7085668467676325\n",
      "mvar25, mvar27:0.7559996777476152\n",
      "mvar26, mvar27:0.9133317378330063\n",
      "mvar32, mvar37:0.8664394304224051\n"
     ]
    }
   ],
   "source": [
    "corrs = data.corr() \n",
    "\n",
    "threshold = 0.7\n",
    "buf = []\n",
    "\n",
    "for cols1 in corrs:\n",
    "    buf.append(cols1)\n",
    "    for cols2 in corrs:\n",
    "        if cols2 not in buf:\n",
    "            val = corrs.loc[cols1, cols2]\n",
    "            if abs(val) >= threshold:\n",
    "                print(f'{cols1}, {cols2}:{val}')"
   ]
  },
  {
   "cell_type": "code",
   "execution_count": 82,
   "id": "cb4ed036",
   "metadata": {},
   "outputs": [],
   "source": [
    "#[42,50, 4, 7, 9, 16, 17, 20,26,27]"
   ]
  },
  {
   "cell_type": "code",
   "execution_count": null,
   "id": "ac9d5d45",
   "metadata": {},
   "outputs": [],
   "source": []
  },
  {
   "cell_type": "code",
   "execution_count": 83,
   "id": "c432076a",
   "metadata": {},
   "outputs": [
    {
     "data": {
      "text/plain": [
       "application_key    0.004117\n",
       "mvar1             -0.368350\n",
       "mvar2              0.206396\n",
       "mvar3              0.180356\n",
       "mvar4              0.129412\n",
       "mvar5              0.085536\n",
       "mvar6             -0.135156\n",
       "mvar7             -0.097629\n",
       "mvar8             -0.195159\n",
       "mvar9             -0.179666\n",
       "mvar10            -0.149656\n",
       "mvar11             0.027521\n",
       "mvar12            -0.045496\n",
       "mvar13            -0.087363\n",
       "mvar14             0.001922\n",
       "mvar15            -0.106269\n",
       "mvar16             0.237592\n",
       "mvar17             0.235242\n",
       "mvar18             0.231353\n",
       "mvar19             0.111349\n",
       "mvar20             0.105365\n",
       "mvar21             0.278938\n",
       "mvar22             0.281273\n",
       "mvar23             0.274292\n",
       "mvar24             0.058889\n",
       "mvar25            -0.191359\n",
       "mvar26            -0.192040\n",
       "mvar27            -0.193599\n",
       "mvar28            -0.198825\n",
       "mvar29            -0.187419\n",
       "mvar30            -0.109114\n",
       "mvar31            -0.108861\n",
       "mvar32            -0.193772\n",
       "mvar33            -0.125520\n",
       "mvar34             0.134574\n",
       "mvar35             0.236881\n",
       "mvar36             0.154670\n",
       "mvar37            -0.182224\n",
       "mvar38             0.127458\n",
       "mvar39             0.131056\n",
       "mvar40             0.161234\n",
       "mvar41             0.101558\n",
       "mvar42             0.295282\n",
       "mvar43            -0.152591\n",
       "mvar44            -0.060636\n",
       "mvar45             0.122732\n",
       "mvar46             0.170002\n",
       "mvar48             0.047558\n",
       "mvar49            -0.000417\n",
       "mvar50            -0.149717\n",
       "mvar51            -0.116676\n",
       "default_ind        1.000000\n",
       "Name: default_ind, dtype: float64"
      ]
     },
     "execution_count": 83,
     "metadata": {},
     "output_type": "execute_result"
    }
   ],
   "source": [
    "corrs['default_ind']"
   ]
  },
  {
   "cell_type": "code",
   "execution_count": 84,
   "id": "f26a5479",
   "metadata": {},
   "outputs": [
    {
     "name": "stdout",
     "output_type": "stream",
     "text": [
      "<class 'pandas.core.frame.DataFrame'>\n",
      "RangeIndex: 83000 entries, 0 to 82999\n",
      "Data columns (total 53 columns):\n",
      " #   Column           Non-Null Count  Dtype  \n",
      "---  ------           --------------  -----  \n",
      " 0   application_key  83000 non-null  int64  \n",
      " 1   mvar1            79267 non-null  float64\n",
      " 2   mvar2            77114 non-null  float64\n",
      " 3   mvar3            82465 non-null  float64\n",
      " 4   mvar4            82465 non-null  float64\n",
      " 5   mvar5            82465 non-null  float64\n",
      " 6   mvar6            63299 non-null  float64\n",
      " 7   mvar7            75326 non-null  float64\n",
      " 8   mvar8            63291 non-null  float64\n",
      " 9   mvar9            71318 non-null  float64\n",
      " 10  mvar10           82465 non-null  float64\n",
      " 11  mvar11           36283 non-null  float64\n",
      " 12  mvar12           68422 non-null  float64\n",
      " 13  mvar13           73311 non-null  float64\n",
      " 14  mvar14           83000 non-null  float64\n",
      " 15  mvar15           49481 non-null  float64\n",
      " 16  mvar16           63757 non-null  float64\n",
      " 17  mvar17           66501 non-null  float64\n",
      " 18  mvar18           67641 non-null  float64\n",
      " 19  mvar19           82995 non-null  float64\n",
      " 20  mvar20           82465 non-null  float64\n",
      " 21  mvar21           59538 non-null  float64\n",
      " 22  mvar22           52332 non-null  float64\n",
      " 23  mvar23           40689 non-null  float64\n",
      " 24  mvar24           63470 non-null  float64\n",
      " 25  mvar25           75138 non-null  float64\n",
      " 26  mvar26           72071 non-null  float64\n",
      " 27  mvar27           69350 non-null  float64\n",
      " 28  mvar28           82465 non-null  float64\n",
      " 29  mvar29           82465 non-null  float64\n",
      " 30  mvar30           45012 non-null  float64\n",
      " 31  mvar31           24461 non-null  float64\n",
      " 32  mvar32           75138 non-null  float64\n",
      " 33  mvar33           81131 non-null  float64\n",
      " 34  mvar34           82465 non-null  float64\n",
      " 35  mvar35           48132 non-null  float64\n",
      " 36  mvar36           79841 non-null  float64\n",
      " 37  mvar37           75138 non-null  float64\n",
      " 38  mvar38           82465 non-null  float64\n",
      " 39  mvar39           76671 non-null  float64\n",
      " 40  mvar40           17930 non-null  float64\n",
      " 41  mvar41           25736 non-null  float64\n",
      " 42  mvar42           80977 non-null  float64\n",
      " 43  mvar43           82111 non-null  float64\n",
      " 44  mvar44           74851 non-null  float64\n",
      " 45  mvar45           37080 non-null  float64\n",
      " 46  mvar46           59397 non-null  float64\n",
      " 47  mvar47           83000 non-null  object \n",
      " 48  mvar48           83000 non-null  float64\n",
      " 49  mvar49           83000 non-null  float64\n",
      " 50  mvar50           83000 non-null  float64\n",
      " 51  mvar51           83000 non-null  float64\n",
      " 52  default_ind      83000 non-null  int64  \n",
      "dtypes: float64(50), int64(2), object(1)\n",
      "memory usage: 33.6+ MB\n"
     ]
    }
   ],
   "source": [
    "data.info()"
   ]
  },
  {
   "cell_type": "code",
   "execution_count": null,
   "id": "47943736",
   "metadata": {},
   "outputs": [],
   "source": []
  },
  {
   "cell_type": "code",
   "execution_count": 85,
   "id": "ae920eed",
   "metadata": {},
   "outputs": [],
   "source": [
    "remove = [11, 15, 22, 23, 30, 31, 35, 40, 41, 45, 42, 50, 4, 7, 9, 16, 17, 20, 26, 27]\n",
    "\n",
    "removed = [f'mvar{i}' for i in remove]\n",
    "chosen = [i for i in data.columns if i not in removed]\n",
    "\n",
    "ccat_cols = [i for i in cat_cols if i in chosen]\n",
    "cnum_cols = [i for i in num_cols if i in chosen]"
   ]
  },
  {
   "cell_type": "code",
   "execution_count": 86,
   "id": "8b42f552",
   "metadata": {},
   "outputs": [
    {
     "name": "stdout",
     "output_type": "stream",
     "text": [
      "['mvar18', 'mvar19', 'mvar34', 'mvar39', 'mvar46', 'mvar47']\n"
     ]
    }
   ],
   "source": [
    "print(ccat_cols)"
   ]
  },
  {
   "cell_type": "code",
   "execution_count": 87,
   "id": "88ef5ea8",
   "metadata": {},
   "outputs": [
    {
     "name": "stdout",
     "output_type": "stream",
     "text": [
      "['application_key', 'mvar1', 'mvar2', 'mvar3', 'mvar5', 'mvar6', 'mvar8', 'mvar10', 'mvar12', 'mvar13', 'mvar14', 'mvar21', 'mvar24', 'mvar25', 'mvar28', 'mvar29', 'mvar32', 'mvar33', 'mvar36', 'mvar37', 'mvar38', 'mvar43', 'mvar44', 'mvar48', 'mvar49', 'mvar51']\n"
     ]
    }
   ],
   "source": [
    "print(cnum_cols)"
   ]
  },
  {
   "cell_type": "code",
   "execution_count": 88,
   "id": "9a4b30e6",
   "metadata": {},
   "outputs": [],
   "source": [
    "df = data[['application_key', 'mvar1', 'mvar2', 'mvar3', 'mvar5', 'mvar6', 'mvar8', 'mvar10', 'mvar12', 'mvar13', 'mvar14', 'mvar21', 'mvar24', 'mvar25', 'mvar28', 'mvar29', 'mvar32', 'mvar33', 'mvar36', 'mvar37', 'mvar38', 'mvar43', 'mvar44', 'mvar48', 'mvar49', 'mvar51','mvar18', 'mvar19', 'mvar34', 'mvar39', 'mvar46', 'mvar47']]"
   ]
  },
  {
   "cell_type": "code",
   "execution_count": 89,
   "id": "8bf0acbb",
   "metadata": {},
   "outputs": [
    {
     "name": "stdout",
     "output_type": "stream",
     "text": [
      "<class 'pandas.core.frame.DataFrame'>\n",
      "RangeIndex: 83000 entries, 0 to 82999\n",
      "Data columns (total 32 columns):\n",
      " #   Column           Non-Null Count  Dtype  \n",
      "---  ------           --------------  -----  \n",
      " 0   application_key  83000 non-null  int64  \n",
      " 1   mvar1            79267 non-null  float64\n",
      " 2   mvar2            77114 non-null  float64\n",
      " 3   mvar3            82465 non-null  float64\n",
      " 4   mvar5            82465 non-null  float64\n",
      " 5   mvar6            63299 non-null  float64\n",
      " 6   mvar8            63291 non-null  float64\n",
      " 7   mvar10           82465 non-null  float64\n",
      " 8   mvar12           68422 non-null  float64\n",
      " 9   mvar13           73311 non-null  float64\n",
      " 10  mvar14           83000 non-null  float64\n",
      " 11  mvar21           59538 non-null  float64\n",
      " 12  mvar24           63470 non-null  float64\n",
      " 13  mvar25           75138 non-null  float64\n",
      " 14  mvar28           82465 non-null  float64\n",
      " 15  mvar29           82465 non-null  float64\n",
      " 16  mvar32           75138 non-null  float64\n",
      " 17  mvar33           81131 non-null  float64\n",
      " 18  mvar36           79841 non-null  float64\n",
      " 19  mvar37           75138 non-null  float64\n",
      " 20  mvar38           82465 non-null  float64\n",
      " 21  mvar43           82111 non-null  float64\n",
      " 22  mvar44           74851 non-null  float64\n",
      " 23  mvar48           83000 non-null  float64\n",
      " 24  mvar49           83000 non-null  float64\n",
      " 25  mvar51           83000 non-null  float64\n",
      " 26  mvar18           67641 non-null  float64\n",
      " 27  mvar19           82995 non-null  float64\n",
      " 28  mvar34           82465 non-null  float64\n",
      " 29  mvar39           76671 non-null  float64\n",
      " 30  mvar46           59397 non-null  float64\n",
      " 31  mvar47           83000 non-null  object \n",
      "dtypes: float64(30), int64(1), object(1)\n",
      "memory usage: 20.3+ MB\n"
     ]
    }
   ],
   "source": [
    "df.info()"
   ]
  },
  {
   "cell_type": "code",
   "execution_count": null,
   "id": "18f40e8d",
   "metadata": {},
   "outputs": [],
   "source": []
  },
  {
   "cell_type": "code",
   "execution_count": null,
   "id": "4f8b7214",
   "metadata": {},
   "outputs": [],
   "source": []
  },
  {
   "cell_type": "code",
   "execution_count": 91,
   "id": "6fd421f2",
   "metadata": {},
   "outputs": [
    {
     "name": "stderr",
     "output_type": "stream",
     "text": [
      "c:\\python\\python38\\lib\\site-packages\\pandas\\core\\series.py:4463: SettingWithCopyWarning: \n",
      "A value is trying to be set on a copy of a slice from a DataFrame\n",
      "\n",
      "See the caveats in the documentation: https://pandas.pydata.org/pandas-docs/stable/user_guide/indexing.html#returning-a-view-versus-a-copy\n",
      "  return super().fillna(\n"
     ]
    }
   ],
   "source": [
    "for cols in df:\n",
    "    if cols in ccat_cols:\n",
    "        df[cols].fillna(df[cols].mode()[0],inplace=True)\n",
    "    if cols in cnum_cols:\n",
    "        df[cols].fillna(df[cols].mean(),inplace=True)"
   ]
  },
  {
   "cell_type": "code",
   "execution_count": 92,
   "id": "bc8bb93a",
   "metadata": {},
   "outputs": [
    {
     "name": "stdout",
     "output_type": "stream",
     "text": [
      "<class 'pandas.core.frame.DataFrame'>\n",
      "RangeIndex: 83000 entries, 0 to 82999\n",
      "Data columns (total 32 columns):\n",
      " #   Column           Non-Null Count  Dtype  \n",
      "---  ------           --------------  -----  \n",
      " 0   application_key  83000 non-null  int64  \n",
      " 1   mvar1            83000 non-null  float64\n",
      " 2   mvar2            83000 non-null  float64\n",
      " 3   mvar3            83000 non-null  float64\n",
      " 4   mvar5            83000 non-null  float64\n",
      " 5   mvar6            83000 non-null  float64\n",
      " 6   mvar8            83000 non-null  float64\n",
      " 7   mvar10           83000 non-null  float64\n",
      " 8   mvar12           83000 non-null  float64\n",
      " 9   mvar13           83000 non-null  float64\n",
      " 10  mvar14           83000 non-null  float64\n",
      " 11  mvar21           83000 non-null  float64\n",
      " 12  mvar24           83000 non-null  float64\n",
      " 13  mvar25           83000 non-null  float64\n",
      " 14  mvar28           83000 non-null  float64\n",
      " 15  mvar29           83000 non-null  float64\n",
      " 16  mvar32           83000 non-null  float64\n",
      " 17  mvar33           83000 non-null  float64\n",
      " 18  mvar36           83000 non-null  float64\n",
      " 19  mvar37           83000 non-null  float64\n",
      " 20  mvar38           83000 non-null  float64\n",
      " 21  mvar43           83000 non-null  float64\n",
      " 22  mvar44           83000 non-null  float64\n",
      " 23  mvar48           83000 non-null  float64\n",
      " 24  mvar49           83000 non-null  float64\n",
      " 25  mvar51           83000 non-null  float64\n",
      " 26  mvar18           83000 non-null  float64\n",
      " 27  mvar19           83000 non-null  float64\n",
      " 28  mvar34           83000 non-null  float64\n",
      " 29  mvar39           83000 non-null  float64\n",
      " 30  mvar46           83000 non-null  float64\n",
      " 31  mvar47           83000 non-null  object \n",
      "dtypes: float64(30), int64(1), object(1)\n",
      "memory usage: 20.3+ MB\n"
     ]
    }
   ],
   "source": [
    "df.info()"
   ]
  },
  {
   "cell_type": "code",
   "execution_count": null,
   "id": "75d55b1e",
   "metadata": {},
   "outputs": [],
   "source": []
  },
  {
   "cell_type": "code",
   "execution_count": 93,
   "id": "3be7dff7",
   "metadata": {},
   "outputs": [
    {
     "name": "stderr",
     "output_type": "stream",
     "text": [
      "<ipython-input-93-00e82fa7a63c>:4: SettingWithCopyWarning: \n",
      "A value is trying to be set on a copy of a slice from a DataFrame.\n",
      "Try using .loc[row_indexer,col_indexer] = value instead\n",
      "\n",
      "See the caveats in the documentation: https://pandas.pydata.org/pandas-docs/stable/user_guide/indexing.html#returning-a-view-versus-a-copy\n",
      "  df['mvar47'] = np.where(df['mvar47'] == 'C', 0, 1)\n"
     ]
    }
   ],
   "source": [
    "from sklearn.model_selection import train_test_split\n",
    "from sklearn.metrics import accuracy_score, classification_report, confusion_matrix, roc_curve, roc_auc_score\n",
    "\n",
    "df['mvar47'] = np.where(df['mvar47'] == 'C', 0, 1)\n",
    "X = df.drop(['application_key'], axis=1)\n",
    "Y = data['default_ind']"
   ]
  },
  {
   "cell_type": "code",
   "execution_count": 94,
   "id": "4a88bbfa",
   "metadata": {},
   "outputs": [],
   "source": [
    "from sklearn.preprocessing import StandardScaler\n",
    "# Scaling the test dataset\n",
    "scaler = StandardScaler()"
   ]
  },
  {
   "cell_type": "code",
   "execution_count": 95,
   "id": "1c64dcb3",
   "metadata": {},
   "outputs": [],
   "source": [
    "X_train,X_test,Y_train,Y_test = train_test_split(X,Y,test_size = 0.3,random_state = 0)\n",
    "X_train = scaler.fit_transform(X_train)\n",
    "X_test = scaler.fit_transform(X_test)"
   ]
  },
  {
   "cell_type": "code",
   "execution_count": null,
   "id": "9104bd50",
   "metadata": {},
   "outputs": [],
   "source": []
  },
  {
   "cell_type": "code",
   "execution_count": null,
   "id": "9407b796",
   "metadata": {},
   "outputs": [],
   "source": []
  },
  {
   "cell_type": "code",
   "execution_count": null,
   "id": "6eae60c0",
   "metadata": {},
   "outputs": [],
   "source": []
  },
  {
   "cell_type": "code",
   "execution_count": null,
   "id": "baa4d7d9",
   "metadata": {},
   "outputs": [],
   "source": []
  },
  {
   "cell_type": "code",
   "execution_count": 52,
   "id": "d696c700",
   "metadata": {},
   "outputs": [
    {
     "data": {
      "text/plain": [
       "0.790223752151463"
      ]
     },
     "execution_count": 52,
     "metadata": {},
     "output_type": "execute_result"
    }
   ],
   "source": [
    "import lightgbm as lgbm\n",
    "lg = lgbm.LGBMClassifier(boosting_type = 'gbdt', max_depth = 5, n_estimators = 100)\n",
    "lg.fit(X_train,Y_train)\n",
    "Y_train_pred = lg.predict(X_train)\n",
    "accuracy_score(Y_train,Y_train_pred)"
   ]
  },
  {
   "cell_type": "code",
   "execution_count": 51,
   "id": "c60d66de",
   "metadata": {},
   "outputs": [
    {
     "data": {
      "text/plain": [
       "{'boosting_type': 'gbdt', 'max_depth': 5, 'n_estimators': 100}"
      ]
     },
     "execution_count": 51,
     "metadata": {},
     "output_type": "execute_result"
    }
   ],
   "source": [
    "from sklearn.model_selection import GridSearchCV\n",
    "grid = GridSearchCV(estimator = lg, param_grid = {'boosting_type':['gbdt','dart','goss'], 'n_estimators':[25,50,75,100],'max_depth':[5,10,15,20]}, cv = 5, refit = True)\n",
    "grid.fit(X_train,Y_train)\n",
    "grid.best_params_"
   ]
  },
  {
   "cell_type": "code",
   "execution_count": 53,
   "id": "f9020077",
   "metadata": {},
   "outputs": [
    {
     "data": {
      "text/plain": [
       "0.7591566265060241"
      ]
     },
     "execution_count": 53,
     "metadata": {},
     "output_type": "execute_result"
    }
   ],
   "source": [
    "Y_pred = lg.predict(X_test)\n",
    "accuracy_score(Y_test,Y_pred)"
   ]
  },
  {
   "cell_type": "code",
   "execution_count": null,
   "id": "d53be82c",
   "metadata": {},
   "outputs": [],
   "source": []
  },
  {
   "cell_type": "code",
   "execution_count": null,
   "id": "44f05c4d",
   "metadata": {},
   "outputs": [],
   "source": []
  },
  {
   "cell_type": "code",
   "execution_count": null,
   "id": "1017881e",
   "metadata": {},
   "outputs": [],
   "source": []
  },
  {
   "cell_type": "code",
   "execution_count": null,
   "id": "d26fe984",
   "metadata": {},
   "outputs": [],
   "source": []
  },
  {
   "cell_type": "code",
   "execution_count": 96,
   "id": "39390472",
   "metadata": {},
   "outputs": [
    {
     "data": {
      "text/plain": [
       "Text(0, 0.5, 'Variance Explained in dataset ')"
      ]
     },
     "execution_count": 96,
     "metadata": {},
     "output_type": "execute_result"
    },
    {
     "data": {
      "image/png": "[encoded data removed]",
      "text/plain": [
       "<Figure size 432x288 with 1 Axes>"
      ]
     },
     "metadata": {
      "needs_background": "light"
     },
     "output_type": "display_data"
    }
   ],
   "source": [
    "from sklearn.decomposition import PCA\n",
    "X = scaler.fit_transform(X)\n",
    "explained_variance= []\n",
    "for i in range(1,32):\n",
    "    pca=PCA(n_components=i)\n",
    "    pca.fit(X)\n",
    "    explained_variance.append(np.sum(pca.explained_variance_ratio_))\n",
    "plt.plot(range(1,32),explained_variance)\n",
    "plt.xlabel(\"Number of Components in dataset \")\n",
    "plt.ylabel(\"Variance Explained in dataset \")"
   ]
  },
  {
   "cell_type": "code",
   "execution_count": null,
   "id": "d68fe1b4",
   "metadata": {},
   "outputs": [],
   "source": []
  },
  {
   "cell_type": "code",
   "execution_count": null,
   "id": "fd2e70cb",
   "metadata": {},
   "outputs": [],
   "source": []
  },
  {
   "cell_type": "code",
   "execution_count": 97,
   "id": "0476d916",
   "metadata": {},
   "outputs": [],
   "source": [
    "pca=PCA(0.9)\n",
    "X_pca=pca.fit_transform(X)\n",
    "X_pca = pd.DataFrame(X_pca)\n",
    "X_train,X_test,Y_train,Y_test = train_test_split(X_pca,Y,test_size = 0.3,random_state = 0)\n",
    "X_train = scaler.fit_transform(X_train)\n",
    "X_test = scaler.fit_transform(X_test)"
   ]
  },
  {
   "cell_type": "code",
   "execution_count": null,
   "id": "bb20b6fc",
   "metadata": {},
   "outputs": [],
   "source": []
  },
  {
   "cell_type": "code",
   "execution_count": null,
   "id": "d9a4adf3",
   "metadata": {},
   "outputs": [],
   "source": []
  },
  {
   "cell_type": "code",
   "execution_count": 98,
   "id": "72a07ec1",
   "metadata": {},
   "outputs": [
    {
     "data": {
      "text/plain": [
       "0.7808950086058519"
      ]
     },
     "execution_count": 98,
     "metadata": {},
     "output_type": "execute_result"
    }
   ],
   "source": [
    "from sklearn.neural_network import MLPClassifier\n",
    "mlp =  MLPClassifier(max_iter = 1000)\n",
    "#mlp = MLPClassifier(hidden_layer_sizes=(20,10,5),max_iter = 1000,activation = 'relu',solver='adam',random_state=1)\n",
    "mlp.fit(X_train,Y_train)\n",
    "Y_pred_train = mlp.predict(X_train)\n",
    "accuracy_score(Y_train,Y_pred_train)\n"
   ]
  },
  {
   "cell_type": "code",
   "execution_count": 99,
   "id": "71e430ce",
   "metadata": {},
   "outputs": [
    {
     "data": {
      "text/plain": [
       "0.7594779116465863"
      ]
     },
     "execution_count": 99,
     "metadata": {},
     "output_type": "execute_result"
    }
   ],
   "source": [
    "Y_pred = mlp.predict(X_test)\n",
    "accuracy_score(Y_test,Y_pred)"
   ]
  },
  {
   "cell_type": "code",
   "execution_count": null,
   "id": "9bd3b4ce",
   "metadata": {},
   "outputs": [],
   "source": []
  },
  {
   "cell_type": "code",
   "execution_count": null,
   "id": "2b86a351",
   "metadata": {},
   "outputs": [],
   "source": []
  },
  {
   "cell_type": "code",
   "execution_count": null,
   "id": "a63e4e43",
   "metadata": {},
   "outputs": [],
   "source": []
  },
  {
   "cell_type": "code",
   "execution_count": null,
   "id": "f2a2b32a",
   "metadata": {},
   "outputs": [],
   "source": []
  },
  {
   "cell_type": "code",
   "execution_count": null,
   "id": "a1aa3dca",
   "metadata": {},
   "outputs": [],
   "source": []
  },
  {
   "cell_type": "code",
   "execution_count": null,
   "id": "68ec2d92",
   "metadata": {},
   "outputs": [],
   "source": []
  },
  {
   "cell_type": "code",
   "execution_count": null,
   "id": "f09c5b51",
   "metadata": {},
   "outputs": [],
   "source": []
  },
  {
   "cell_type": "code",
   "execution_count": null,
   "id": "7eaf9daa",
   "metadata": {},
   "outputs": [],
   "source": []
  },
  {
   "cell_type": "code",
   "execution_count": null,
   "id": "093b2cf0",
   "metadata": {},
   "outputs": [],
   "source": []
  },
  {
   "cell_type": "code",
   "execution_count": null,
   "id": "5ed99c6b",
   "metadata": {},
   "outputs": [],
   "source": []
  },
  {
   "cell_type": "code",
   "execution_count": 65,
   "id": "8702103e",
   "metadata": {},
   "outputs": [
    {
     "name": "stderr",
     "output_type": "stream",
     "text": [
      "c:\\python\\python38\\lib\\site-packages\\pandas\\core\\series.py:4463: SettingWithCopyWarning: \n",
      "A value is trying to be set on a copy of a slice from a DataFrame\n",
      "\n",
      "See the caveats in the documentation: https://pandas.pydata.org/pandas-docs/stable/user_guide/indexing.html#returning-a-view-versus-a-copy\n",
      "  return super().fillna(\n",
      "<ipython-input-65-9df2f7a4fbef>:21: SettingWithCopyWarning: \n",
      "A value is trying to be set on a copy of a slice from a DataFrame.\n",
      "Try using .loc[row_indexer,col_indexer] = value instead\n",
      "\n",
      "See the caveats in the documentation: https://pandas.pydata.org/pandas-docs/stable/user_guide/indexing.html#returning-a-view-versus-a-copy\n",
      "  test_data_1['mvar47'] = np.where(test_data_1['mvar47'] == 'C', 0, 1)\n"
     ]
    }
   ],
   "source": [
    "## Test evaluation\n",
    "\n",
    "test_data = pd.read_csv('testX.csv', low_memory=False)\n",
    "\n",
    "test_data = test_data.replace(to_replace = 'na', value = np.nan, regex = False)\n",
    "test_data = test_data.replace(to_replace = 'missing', value = np.nan, regex = False)\n",
    "test_data = test_data.replace(to_replace = '#VALUE!', value = -1, regex = False)\n",
    "\n",
    "for i in col:\n",
    "    test_data[i] = test_data[i].astype('float64')\n",
    "\n",
    "test_data_1 = test_data[['application_key', 'mvar1', 'mvar2', 'mvar3', 'mvar5', 'mvar6', 'mvar8', 'mvar10', 'mvar12', 'mvar13', 'mvar14', 'mvar21', 'mvar24', 'mvar25', 'mvar28', 'mvar29', 'mvar32', 'mvar33', 'mvar36', 'mvar37', 'mvar38', 'mvar43', 'mvar44', 'mvar48', 'mvar49', 'mvar51','mvar18', 'mvar19', 'mvar34', 'mvar39', 'mvar46', 'mvar47']]\n",
    "\n",
    "for cols in test_data_1:\n",
    "    if cols in ccat_cols:\n",
    "        test_data_1[cols].fillna(test_data_1[cols].mode()[0],inplace=True)\n",
    "    if cols in cnum_cols:\n",
    "        test_data_1[cols].fillna(test_data_1[cols].mean(),inplace=True)\n",
    "\n",
    "\n",
    "test_data_1['mvar47'] = np.where(test_data_1['mvar47'] == 'C', 0, 1)\n",
    "test_data_new = test_data_1.drop(['application_key'], axis=1)\n",
    "# Scaling the test dataset\n",
    "scaler = StandardScaler()\n",
    "test_data_new = scaler.fit_transform(test_data_new)\n"
   ]
  },
  {
   "cell_type": "code",
   "execution_count": null,
   "id": "5b8895f9",
   "metadata": {},
   "outputs": [],
   "source": []
  },
  {
   "cell_type": "code",
   "execution_count": 66,
   "id": "1be504d8",
   "metadata": {},
   "outputs": [
    {
     "name": "stdout",
     "output_type": "stream",
     "text": [
      "       application_key  Predicted\n",
      "0               578069          0\n",
      "1               578070          0\n",
      "2               578071          0\n",
      "3               578072          0\n",
      "4               578073          0\n",
      "...                ...        ...\n",
      "46995           310027          0\n",
      "46996           310028          0\n",
      "46997           310029          1\n",
      "46998           310030          0\n",
      "46999           310031          0\n",
      "\n",
      "[47000 rows x 2 columns]\n"
     ]
    }
   ],
   "source": [
    "pred = mlp.predict(test_data_new)\n",
    "pred = pred.astype('int32')\n",
    "# Formation of csv file containing the predicted values\n",
    "Y_testing = pd.DataFrame(pred, columns=['Predicted'])\n",
    "result = pd.concat([test_data['application_key'], Y_testing], join='outer', axis=1)\n",
    "print(result)\n",
    "result.to_csv('PPKS_12.csv', index=False, header=False)"
   ]
  },
  {
   "cell_type": "code",
   "execution_count": null,
   "id": "63f0abfd",
   "metadata": {},
   "outputs": [],
   "source": []
  }
 ],
 "metadata": {
  "kernelspec": {
   "display_name": "Python 3",
   "language": "python",
   "name": "python3"
  },
  "language_info": {
   "codemirror_mode": {
    "name": "ipython",
    "version": 3
   },
   "file_extension": ".py",
   "mimetype": "text/x-python",
   "name": "python",
   "nbconvert_exporter": "python",
   "pygments_lexer": "ipython3",
   "version": "3.8.3"
  }
 },
 "nbformat": 4,
 "nbformat_minor": 5
}
